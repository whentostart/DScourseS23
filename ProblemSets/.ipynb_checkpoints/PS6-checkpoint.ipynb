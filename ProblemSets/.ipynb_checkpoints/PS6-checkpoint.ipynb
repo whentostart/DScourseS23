{
 "cells": [
  {
   "cell_type": "code",
   "execution_count": 7,
   "id": "a3a1366c",
   "metadata": {},
   "outputs": [
    {
     "name": "stdout",
     "output_type": "stream",
     "text": [
      "['aha', 'aha_annual_survey_3years', 'aha_hcris_3years', 'aha_it_survey_3years', 'aha_sample', 'ahasamp', 'audit', 'audit_acct_os', 'audit_audit_comp', 'audit_common', 'audit_corp_legal', 'auditsmp', 'auditsmp_all', 'block', 'block_all', 'boardex', 'boardex_na', 'boardex_trial', 'boardsmp', 'calcbench_trial', 'calcbnch', 'cboe', 'cboe_all', 'ciqsamp', 'ciqsamp_common', 'ciqsamp_transcripts', 'columnar', 'comp', 'comp_bank', 'comp_bank_daily', 'comp_execucomp', 'comp_global', 'comp_global_daily', 'comp_na_annual_all', 'comp_na_daily_all', 'comp_na_monthly_all', 'comp_segments_hist', 'comp_segments_hist_daily', 'compa', 'compb', 'compg', 'compm', 'compsamp_snapshot', 'compseg', 'contrib', 'contrib_as_filed_financials', 'contrib_ceo_turnover', 'contrib_char_returns', 'contrib_general', 'contrib_intangible_value', 'contrib_kpss', 'contrib_liva', 'crsp', 'crsp_a_ccm', 'crsp_a_indexes', 'crsp_a_stock', 'crsp_a_treasuries', 'crsp_q_indexhist', 'crsp_q_mutualfunds', 'djones', 'djones_all', 'dmef', 'dmef_all', 'doe', 'doe_all', 'etfg_samp', 'etfgsamp', 'eurekahedge_sample', 'eursamp', 'execcomp', 'factsamp_all', 'factsamp_revere', 'ff', 'ff_all', 'fisd', 'fisd_common', 'fisd_fisd', 'fjc', 'fjc_linking', 'fjc_litigation', 'frb', 'frb_all', 'fssamp', 'ginsight', 'ginsight_basic', 'ginsight_common', 'govpx', 'govpx_common', 'govpx_ticks2008', 'govpx_ticks2009', 'govpx_ticks2010', 'govpx_ticks2011', 'govpx_ticks2012', 'govpxsamp_all', 'govpxsmp', 'gutenberg', 'hbase_sample', 'hbsamp', 'hfrsamp', 'hfrsamp_hfrdb', 'ibes', 'ifgrsamp', 'ims_obp_trial', 'imssamp', 'infogroupsamp_business', 'infogroupsamp_residential', 'iss', 'iss_incentive_lab', 'iss_incentive_lab_europe', 'iss_va_shareholder', 'kld', 'kld_histall', 'ktmine_patents_samp', 'ktsamp', 'lvnsamp', 'lvnsamp_all', 'macrofin', 'macrofin_comm_trade', 'midas', 'mrktsamp', 'mrktsamp_cds', 'mrktsamp_cdx', 'mrktsamp_msf', 'msrb', 'msrb_all', 'omtrial', 'optionm', 'optionm_all', 'optionmsamp_europe', 'optionmsamp_us', 'otc', 'otc_endofday', 'phlx', 'phlx_all', 'pitchsmp', 'ppubsamp', 'ppubsamp_d4d', 'preqin', 'preqin_pe', 'preqsamp', 'preqsamp_all', 'public_all', 'pwt', 'pwt_all', 'ravenpack_trial', 'reprisk_sample', 'repsamp', 'risk', 'risk_directors', 'risk_governance', 'risk_proposals', 'risksamp', 'risksamp_all', 'rpnasamp', 'rq_all', 'sdc', 'secsamp', 'secsamp_all', 'snapsamp', 'snlsamp', 'snlsamp_fig', 'sustainalyticssamp_all', 'sustsamp', 'taqmsamp', 'taqmsamp_all', 'taqsamp', 'tfn', 'totalq', 'totalq_all', 'tr_13f', 'tr_common', 'tr_ibes', 'tr_ibes_guidance', 'tr_mutualfunds', 'tr_sdc_ma', 'tr_sdc_ni', 'trace', 'trace_enhanced', 'trace_standard', 'trdssamp', 'trsamp_ds_eq', 'trsamp_dscom', 'trsamp_dsecon', 'trsamp_dsfut', 'twoiq_samp', 'twoiqsmp', 'wappsamp', 'windsmp', 'wrds_lib_internal', 'wrdsapps', 'wrdsapps_backtest_basic', 'wrdsapps_backtest_plus', 'wrdsapps_bondret', 'wrdsapps_eushort', 'wrdsapps_evtstudy_int_ginsight', 'wrdsapps_evtstudy_lr', 'wrdsapps_finratio', 'wrdsapps_finratio_ccm', 'wrdsapps_finratio_ibes', 'wrdsapps_finratio_ibes_ccm', 'wrdsapps_link_comp_eushort', 'wrdsapps_link_crsp_bond', 'wrdsapps_link_crsp_comp_bdx', 'wrdsapps_link_crsp_factset', 'wrdsapps_link_crsp_ibes', 'wrdsapps_link_crsp_optionm', 'wrdsapps_link_crsp_taq', 'wrdsapps_link_datastream_wscope', 'wrdsapps_link_supplychain', 'wrdsapps_patents', 'wrdsapps_plink_exec_boardex', 'wrdsapps_subsidiary', 'wrdsapps_windices', 'wrdsappssamp_all', 'wrdssec_midas', 'zacksamp', 'zacksamp_all']\n"
     ]
    }
   ],
   "source": [
    "# List available libraries\n",
    "libraries = db.list_libraries()\n",
    "print(libraries)\n",
    "\n"
   ]
  },
  {
   "cell_type": "code",
   "execution_count": 12,
   "id": "fc140a06",
   "metadata": {},
   "outputs": [
    {
     "name": "stdout",
     "output_type": "stream",
     "text": [
      "['aha', 'aha_annual_survey_3years', 'aha_hcris_3years', 'aha_it_survey_3years', 'aha_sample', 'ahasamp', 'audit', 'audit_acct_os', 'audit_audit_comp', 'audit_common', 'audit_corp_legal', 'auditsmp', 'auditsmp_all', 'block', 'block_all', 'boardex', 'boardex_na', 'boardex_trial', 'boardsmp', 'calcbench_trial', 'calcbnch', 'cboe', 'cboe_all', 'ciqsamp', 'ciqsamp_common', 'ciqsamp_transcripts', 'columnar', 'comp', 'comp_bank', 'comp_bank_daily', 'comp_execucomp', 'comp_global', 'comp_global_daily', 'comp_na_annual_all', 'comp_na_daily_all', 'comp_na_monthly_all', 'comp_segments_hist', 'comp_segments_hist_daily', 'compa', 'compb', 'compg', 'compm', 'compsamp_snapshot', 'compseg', 'contrib', 'contrib_as_filed_financials', 'contrib_ceo_turnover', 'contrib_char_returns', 'contrib_general', 'contrib_intangible_value', 'contrib_kpss', 'contrib_liva', 'crsp', 'crsp_a_ccm', 'crsp_a_indexes', 'crsp_a_stock', 'crsp_a_treasuries', 'crsp_q_indexhist', 'crsp_q_mutualfunds', 'djones', 'djones_all', 'dmef', 'dmef_all', 'doe', 'doe_all', 'etfg_samp', 'etfgsamp', 'eurekahedge_sample', 'eursamp', 'execcomp', 'factsamp_all', 'factsamp_revere', 'ff', 'ff_all', 'fisd', 'fisd_common', 'fisd_fisd', 'fjc', 'fjc_linking', 'fjc_litigation', 'frb', 'frb_all', 'fssamp', 'ginsight', 'ginsight_basic', 'ginsight_common', 'govpx', 'govpx_common', 'govpx_ticks2008', 'govpx_ticks2009', 'govpx_ticks2010', 'govpx_ticks2011', 'govpx_ticks2012', 'govpxsamp_all', 'govpxsmp', 'gutenberg', 'hbase_sample', 'hbsamp', 'hfrsamp', 'hfrsamp_hfrdb', 'ibes', 'ifgrsamp', 'ims_obp_trial', 'imssamp', 'infogroupsamp_business', 'infogroupsamp_residential', 'iss', 'iss_incentive_lab', 'iss_incentive_lab_europe', 'iss_va_shareholder', 'kld', 'kld_histall', 'ktmine_patents_samp', 'ktsamp', 'lvnsamp', 'lvnsamp_all', 'macrofin', 'macrofin_comm_trade', 'midas', 'mrktsamp', 'mrktsamp_cds', 'mrktsamp_cdx', 'mrktsamp_msf', 'msrb', 'msrb_all', 'omtrial', 'optionm', 'optionm_all', 'optionmsamp_europe', 'optionmsamp_us', 'otc', 'otc_endofday', 'phlx', 'phlx_all', 'pitchsmp', 'ppubsamp', 'ppubsamp_d4d', 'preqin', 'preqin_pe', 'preqsamp', 'preqsamp_all', 'public_all', 'pwt', 'pwt_all', 'ravenpack_trial', 'reprisk_sample', 'repsamp', 'risk', 'risk_directors', 'risk_governance', 'risk_proposals', 'risksamp', 'risksamp_all', 'rpnasamp', 'rq_all', 'sdc', 'secsamp', 'secsamp_all', 'snapsamp', 'snlsamp', 'snlsamp_fig', 'sustainalyticssamp_all', 'sustsamp', 'taqmsamp', 'taqmsamp_all', 'taqsamp', 'tfn', 'totalq', 'totalq_all', 'tr_13f', 'tr_common', 'tr_ibes', 'tr_ibes_guidance', 'tr_mutualfunds', 'tr_sdc_ma', 'tr_sdc_ni', 'trace', 'trace_enhanced', 'trace_standard', 'trdssamp', 'trsamp_ds_eq', 'trsamp_dscom', 'trsamp_dsecon', 'trsamp_dsfut', 'twoiq_samp', 'twoiqsmp', 'wappsamp', 'windsmp', 'wrds_lib_internal', 'wrdsapps', 'wrdsapps_backtest_basic', 'wrdsapps_backtest_plus', 'wrdsapps_bondret', 'wrdsapps_eushort', 'wrdsapps_evtstudy_int_ginsight', 'wrdsapps_evtstudy_lr', 'wrdsapps_finratio', 'wrdsapps_finratio_ccm', 'wrdsapps_finratio_ibes', 'wrdsapps_finratio_ibes_ccm', 'wrdsapps_link_comp_eushort', 'wrdsapps_link_crsp_bond', 'wrdsapps_link_crsp_comp_bdx', 'wrdsapps_link_crsp_factset', 'wrdsapps_link_crsp_ibes', 'wrdsapps_link_crsp_optionm', 'wrdsapps_link_crsp_taq', 'wrdsapps_link_datastream_wscope', 'wrdsapps_link_supplychain', 'wrdsapps_patents', 'wrdsapps_plink_exec_boardex', 'wrdsapps_subsidiary', 'wrdsapps_windices', 'wrdsappssamp_all', 'wrdssec_midas', 'zacksamp', 'zacksamp_all']\n",
      "Dataset 'wrdsapps_link_supplychain' not found in any library.\n"
     ]
    }
   ],
   "source": [
    "# List available libraries\n",
    "libraries = db.list_libraries()\n",
    "print(libraries)\n",
    "\n",
    "# Iterate through libraries and find the library containing the dataset \"wrdsapps_link_supplychain\"\n",
    "target_library = None\n",
    "for library_name in libraries:\n",
    "    datasets = db.list_tables(library=library_name)\n",
    "    if \"wrdsapps_link_supplychain\" in datasets:\n",
    "        target_library = library_name\n",
    "        break\n",
    "\n",
    "if target_library:\n",
    "    print(f\"Found the dataset 'wrdsapps_link_supplychain' in library '{target_library}'.\")\n",
    "else:\n",
    "    print(\"Dataset 'wrdsapps_link_supplychain' not found in any library.\")\n"
   ]
  },
  {
   "cell_type": "code",
   "execution_count": 16,
   "id": "6a87ef6f",
   "metadata": {},
   "outputs": [
    {
     "name": "stdout",
     "output_type": "stream",
     "text": [
      "                  table_name\n",
      "0                  _eq_2_bm_\n",
      "1            bdxcrspcomplink\n",
      "2                 bdxinslink\n",
      "3              bondcrsp_link\n",
      "4                    bondret\n",
      "..                       ...\n",
      "293      uspatents_citations\n",
      "294  uspatents_gvkey_linking\n",
      "295           uspatents_meta\n",
      "296     wcountryconstituents\n",
      "297       wrds_relationships\n",
      "\n",
      "[298 rows x 1 columns]\n"
     ]
    }
   ],
   "source": [
    "# List all tables in the schema\n",
    "sql_query = \"\"\"\n",
    "SELECT table_name\n",
    "FROM information_schema.tables\n",
    "WHERE table_schema = 'wrdsapps'\n",
    "\"\"\"\n",
    "\n",
    "table_list = db.raw_sql(sql_query)\n",
    "print(table_list)\n"
   ]
  },
  {
   "cell_type": "code",
   "execution_count": 1,
   "id": "da3a678e",
   "metadata": {
    "scrolled": true
   },
   "outputs": [
    {
     "ename": "NameError",
     "evalue": "name 'db' is not defined",
     "output_type": "error",
     "traceback": [
      "\u001b[1;31m---------------------------------------------------------------------------\u001b[0m",
      "\u001b[1;31mNameError\u001b[0m                                 Traceback (most recent call last)",
      "Input \u001b[1;32mIn [1]\u001b[0m, in \u001b[0;36m<cell line: 8>\u001b[1;34m()\u001b[0m\n\u001b[0;32m      1\u001b[0m sql_query \u001b[38;5;241m=\u001b[39m \u001b[38;5;124m\"\"\"\u001b[39m\n\u001b[0;32m      2\u001b[0m \u001b[38;5;124mSELECT * \u001b[39m\n\u001b[0;32m      3\u001b[0m \u001b[38;5;124mFROM wrdsapps.wrds_relationships\u001b[39m\n\u001b[0;32m      4\u001b[0m \u001b[38;5;124mWHERE fdate >= \u001b[39m\u001b[38;5;124m'\u001b[39m\u001b[38;5;124m2003-01-01\u001b[39m\u001b[38;5;124m'\u001b[39m\u001b[38;5;124m AND fdate <= \u001b[39m\u001b[38;5;124m'\u001b[39m\u001b[38;5;124m2022-12-31\u001b[39m\u001b[38;5;124m'\u001b[39m\n\u001b[0;32m      5\u001b[0m \u001b[38;5;124m\"\"\"\u001b[39m\n\u001b[0;32m      7\u001b[0m \u001b[38;5;66;03m# Execute the SQL query and store the result in a Pandas DataFrame\u001b[39;00m\n\u001b[1;32m----> 8\u001b[0m data \u001b[38;5;241m=\u001b[39m \u001b[43mdb\u001b[49m\u001b[38;5;241m.\u001b[39mraw_sql(sql_query)\n\u001b[0;32m     10\u001b[0m \u001b[38;5;66;03m# Display the DataFrame\u001b[39;00m\n\u001b[0;32m     11\u001b[0m head()\n",
      "\u001b[1;31mNameError\u001b[0m: name 'db' is not defined"
     ]
    }
   ],
   "source": [
    "sql_query = \"\"\"\n",
    "SELECT * \n",
    "FROM wrdsapps.wrds_relationships\n",
    "WHERE fdate >= '2003-01-01' AND fdate <= '2022-12-31'\n",
    "\"\"\"\n",
    "\n",
    "# Execute the SQL query and store the result in a Pandas DataFrame\n",
    "data = db.raw_sql(sql_query)\n",
    "\n",
    "# Display the DataFrame\n",
    "head()\n"
   ]
  },
  {
   "cell_type": "code",
   "execution_count": 2,
   "id": "ed52dd85",
   "metadata": {},
   "outputs": [
    {
     "name": "stdout",
     "output_type": "stream",
     "text": [
      "Enter your WRDS username [your_wrds_username]:qinghuafeng\n",
      "Enter your password:········\n",
      "WRDS recommends setting up a .pgpass file.\n",
      "Create .pgpass file now [y/n]?: y\n",
      "Created .pgpass file successfully.\n",
      "You can create this file yourself at any time with the create_pgpass_file() function.\n",
      "Loading library list...\n",
      "Done\n",
      "          cik   gvkey             accession             coname       fdate  \\\n",
      "0  0000810370    None  0001047469-03-000059  ESCAGENETICS CORP  2003-01-02   \n",
      "1  0000810370    None  0001047469-03-000059  ESCAGENETICS CORP  2003-01-02   \n",
      "2  0000845880  066497  0000950134-03-000103        PROBEX CORP  2003-01-03   \n",
      "3  0000845880  066497  0000950134-03-000103        PROBEX CORP  2003-01-03   \n",
      "4  0000845880  066497  0000950134-03-000103        PROBEX CORP  2003-01-03   \n",
      "\n",
      "        rdate    secpdate   type                   subsidiary_name  \\\n",
      "0  2002-09-30  2003-01-01  10KSB         PHYTOpharmaceuticals, Inc   \n",
      "1  2002-09-30  2003-01-01  10KSB      SRE ESCAgenetics Corporation   \n",
      "2        None  2003-01-03   SB-2       Probex Fluids Recovery, Inc   \n",
      "3        None  2003-01-03   SB-2    Probex Operating Services, Inc   \n",
      "4        None  2003-01-03   SB-2  Probex Wellsville Holding I, Inc   \n",
      "\n",
      "                     clean_company    location country_code subdiv_code  \\\n",
      "0         PHYTOpharmaceuticals Inc  California           US          CA   \n",
      "1            SRE ESCAgenetics Corp  California           US          CA   \n",
      "2       Probex Fluids Recovery Inc    Delaware           US          DE   \n",
      "3    Probex Operating Services Inc    Delaware           US          DE   \n",
      "4  Probex Wellsville Holding I Inc    Delaware           US          DE   \n",
      "\n",
      "   hierarchy  missedfile  matched  nonwrds extype  \\\n",
      "0        0.0         0.0      0.0      0.0   ex21   \n",
      "1        0.0         0.0      0.0      0.0   ex21   \n",
      "2        0.0         0.0      0.0      0.0   ex21   \n",
      "3        0.0         0.0      0.0      0.0   ex21   \n",
      "4        0.0         0.0      0.0      0.0   ex21   \n",
      "\n",
      "                                         description  \\\n",
      "0  http://www.sec.gov/Archives/edgar/data/810370/...   \n",
      "1  http://www.sec.gov/Archives/edgar/data/810370/...   \n",
      "2  http://www.sec.gov/Archives/edgar/data/845880/...   \n",
      "3  http://www.sec.gov/Archives/edgar/data/845880/...   \n",
      "4  http://www.sec.gov/Archives/edgar/data/845880/...   \n",
      "\n",
      "                                             ex21url  \n",
      "0  edgar/data/810370/000104746903000059/000081/81...  \n",
      "1  edgar/data/810370/000104746903000059/000081/81...  \n",
      "2  edgar/data/845880/000095013403000103/000084/84...  \n",
      "3  edgar/data/845880/000095013403000103/000084/84...  \n",
      "4  edgar/data/845880/000095013403000103/000084/84...  \n"
     ]
    }
   ],
   "source": [
    "import wrds\n",
    "import pandas as pd\n",
    "\n",
    "# Establish a connection with the WRDS database\n",
    "db = wrds.Connection(wrds_username='your_wrds_username', wrds_password='your_wrds_password')\n",
    "\n",
    "sql_query = \"\"\"\n",
    "SELECT * \n",
    "FROM wrdsapps.wrds_relationships\n",
    "WHERE fdate >= '2003-01-01' AND fdate <= '2022-12-31'\n",
    "\"\"\"\n",
    "\n",
    "# Execute the SQL query and store the result in a Pandas DataFrame\n",
    "data = db.raw_sql(sql_query)\n",
    "\n",
    "# Display the first 5 rows of the DataFrame\n",
    "print(data.head())\n"
   ]
  },
  {
   "cell_type": "code",
   "execution_count": 3,
   "id": "4deb9e95",
   "metadata": {},
   "outputs": [
    {
     "name": "stdout",
     "output_type": "stream",
     "text": [
      "          cik   gvkey             accession             coname       fdate  \\\n",
      "0  0000810370    None  0001047469-03-000059  ESCAGENETICS CORP  2003-01-02   \n",
      "1  0000810370    None  0001047469-03-000059  ESCAGENETICS CORP  2003-01-02   \n",
      "2  0000845880  066497  0000950134-03-000103        PROBEX CORP  2003-01-03   \n",
      "3  0000845880  066497  0000950134-03-000103        PROBEX CORP  2003-01-03   \n",
      "4  0000845880  066497  0000950134-03-000103        PROBEX CORP  2003-01-03   \n",
      "\n",
      "        rdate    secpdate   type                   subsidiary_name  \\\n",
      "0  2002-09-30  2003-01-01  10KSB         PHYTOpharmaceuticals, Inc   \n",
      "1  2002-09-30  2003-01-01  10KSB      SRE ESCAgenetics Corporation   \n",
      "2        None  2003-01-03   SB-2       Probex Fluids Recovery, Inc   \n",
      "3        None  2003-01-03   SB-2    Probex Operating Services, Inc   \n",
      "4        None  2003-01-03   SB-2  Probex Wellsville Holding I, Inc   \n",
      "\n",
      "                     clean_company    location country_code subdiv_code  \\\n",
      "0         PHYTOpharmaceuticals Inc  California           US          CA   \n",
      "1            SRE ESCAgenetics Corp  California           US          CA   \n",
      "2       Probex Fluids Recovery Inc    Delaware           US          DE   \n",
      "3    Probex Operating Services Inc    Delaware           US          DE   \n",
      "4  Probex Wellsville Holding I Inc    Delaware           US          DE   \n",
      "\n",
      "   hierarchy  missedfile  matched  nonwrds extype  \\\n",
      "0        0.0         0.0      0.0      0.0   ex21   \n",
      "1        0.0         0.0      0.0      0.0   ex21   \n",
      "2        0.0         0.0      0.0      0.0   ex21   \n",
      "3        0.0         0.0      0.0      0.0   ex21   \n",
      "4        0.0         0.0      0.0      0.0   ex21   \n",
      "\n",
      "                                         description  \\\n",
      "0  http://www.sec.gov/Archives/edgar/data/810370/...   \n",
      "1  http://www.sec.gov/Archives/edgar/data/810370/...   \n",
      "2  http://www.sec.gov/Archives/edgar/data/845880/...   \n",
      "3  http://www.sec.gov/Archives/edgar/data/845880/...   \n",
      "4  http://www.sec.gov/Archives/edgar/data/845880/...   \n",
      "\n",
      "                                             ex21url  \n",
      "0  edgar/data/810370/000104746903000059/000081/81...  \n",
      "1  edgar/data/810370/000104746903000059/000081/81...  \n",
      "2  edgar/data/845880/000095013403000103/000084/84...  \n",
      "3  edgar/data/845880/000095013403000103/000084/84...  \n",
      "4  edgar/data/845880/000095013403000103/000084/84...  \n"
     ]
    }
   ],
   "source": [
    "sql_query = \"\"\"\n",
    "SELECT * \n",
    "FROM wrdsapps.wrds_relationships\n",
    "WHERE fdate >= '2003-01-01' AND fdate <= '2022-12-31'\n",
    "\"\"\"\n",
    "\n",
    "# Execute the SQL query and store the result in a Pandas DataFrame\n",
    "data = db.raw_sql(sql_query)\n",
    "\n",
    "# Display the first 5 rows of the DataFrame\n",
    "print(data.head())\n"
   ]
  }
 ],
 "metadata": {
  "kernelspec": {
   "display_name": "Python 3 (ipykernel)",
   "language": "python",
   "name": "python3"
  },
  "language_info": {
   "codemirror_mode": {
    "name": "ipython",
    "version": 3
   },
   "file_extension": ".py",
   "mimetype": "text/x-python",
   "name": "python",
   "nbconvert_exporter": "python",
   "pygments_lexer": "ipython3",
   "version": "3.9.12"
  }
 },
 "nbformat": 4,
 "nbformat_minor": 5
}
